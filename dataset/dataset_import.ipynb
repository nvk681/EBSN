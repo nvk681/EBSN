{
 "cells": [
  {
   "cell_type": "markdown",
   "metadata": {},
   "source": [
    "To get the data Imported we need to go to the kaggle API as following steps. \n",
    "\n",
    "\n",
    "Install Kaggle in PC: https://adityashrm21.github.io/Setting-Up-Kaggle/\n",
    "\n",
    "Note: use pip3, if your local has python3 or if it runs on dual python setup. \n",
    "\n",
    "Once the kaggle is installed. \n",
    "\n",
    "kaggle competitions download -c event-recommendation-engine-challenge\n",
    "\n",
    "\n",
    "Command need to be executed in the folder for the data download. The zip file need to be extracted for processing it.\n",
    "\n",
    "\n"
   ]
  }
 ],
 "metadata": {
  "language_info": {
   "name": "python"
  },
  "orig_nbformat": 4
 },
 "nbformat": 4,
 "nbformat_minor": 2
}
